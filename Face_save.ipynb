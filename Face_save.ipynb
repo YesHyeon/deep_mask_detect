{
 "cells": [
  {
   "cell_type": "code",
   "execution_count": null,
   "id": "98291a00",
   "metadata": {},
   "outputs": [],
   "source": [
    "# 얼굴 데이터 추출 및 데이터 저장\n",
    "from keras.models import Sequential\n",
    "from keras.layers import Dropout, Activation, Dense\n",
    "from keras.layers import Flatten, Convolution2D, MaxPooling2D, Conv2D\n",
    "from keras.models import load_model\n",
    "import os, re, glob\n",
    "import cv2\n",
    "import numpy as np\n",
    "import tensorflow as tf\n",
    "from tensorflow.keras import layers, utils, Sequential\n",
    "from tensorflow.keras.callbacks import EarlyStopping\n",
    "from tensorflow.keras.datasets import mnist\n",
    "import shutil\n",
    "\n",
    "facenet = cv2.dnn.readNet('/content/gdrive/MyDrive/인지론 프로젝트/dataset/models/deploy.prototxt', '/content/gdrive/MyDrive/인지론 프로젝트/dataset/models/res10_300x300_ssd_iter_140000.caffemodel')\n",
    "with_dir = os.path.join('/content/gdrive/MyDrive/인지론 프로젝트/dataset/hyun/with_mask/')  ## 수정하면서 사용\n",
    "without_dir = os.path.join('/content/gdrive/MyDrive/인지론 프로젝트/dataset/hyun/without_mask/') ## 수정하면서 사용\n",
    "print('total training withmask images:', len(os.listdir(with_dir)))\n",
    "print('total training withoutmask images:', len(os.listdir(without_dir)))\n",
    "withimgnum = len(os.listdir(with_dir))\n",
    "withoutimgnum = len(os.listdir(without_dir))\n",
    "with_files = os.listdir(with_dir)\n",
    "without_files = os.listdir(without_dir)\n",
    "print(withimgnum)\n",
    "print(withoutimgnum)\n",
    "\n",
    "for k in range(76): # Change range (the number of images)\n",
    "    count=k\n",
    "    img = cv2.imread('/content/gdrive/MyDrive/인지론 프로젝트/dataset/hyun/without_mask/' + with_files[k])\n",
    "    h, w = img.shape[:2]\n",
    "    blob = cv2.dnn.blobFromImage(img, scalefactor=1., size=(305,305), mean=(104., 177., 123.))\n",
    "    facenet.setInput(blob)\n",
    "    dets = facenet.forward()\n",
    "\n",
    "    for i in range(dets.shape[2]):\n",
    "        confidence = dets[0, 0, i, 2]\n",
    "        if confidence < 0.5:\n",
    "            continue\n",
    "        x1 = int(dets[0, 0, i, 3] * w)\n",
    "        y1 = int(dets[0, 0, i, 4] * h)\n",
    "        x2 = int(dets[0, 0, i, 5] * w)\n",
    "        y2 = int(dets[0, 0, i, 6] * h)\n",
    "\n",
    "        if (x2 >= w or y2 >= h):\n",
    "            continue\n",
    "\n",
    "        face = img[y1:y2, x1:x2]\n",
    "    face = cv2.resize(face, (200, 200))\n",
    "\n",
    "    file_name_path = '/content/gdrive/MyDrive/인지론 프로젝트/dataset/hyun_crop/nomask/' + str(count) + '.jpg'\n",
    "    cv2.imwrite(file_name_path, face)\n",
    "    print(count)\n",
    "\n",
    "print(\"CopyComplete\")"
   ]
  }
 ],
 "metadata": {
  "kernelspec": {
   "display_name": "Python 3",
   "language": "python",
   "name": "python3"
  },
  "language_info": {
   "codemirror_mode": {
    "name": "ipython",
    "version": 3
   },
   "file_extension": ".py",
   "mimetype": "text/x-python",
   "name": "python",
   "nbconvert_exporter": "python",
   "pygments_lexer": "ipython3",
   "version": "3.6.13"
  }
 },
 "nbformat": 4,
 "nbformat_minor": 5
}
